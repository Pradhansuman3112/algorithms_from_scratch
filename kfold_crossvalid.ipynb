{
  "nbformat": 4,
  "nbformat_minor": 0,
  "metadata": {
    "colab": {
      "name": "kfold_crossvalid.ipynb",
      "provenance": [],
      "authorship_tag": "ABX9TyNpcnLs7s/xtFdBFjpH7KwU",
      "include_colab_link": true
    },
    "kernelspec": {
      "name": "python3",
      "display_name": "Python 3"
    },
    "language_info": {
      "name": "python"
    }
  },
  "cells": [
    {
      "cell_type": "markdown",
      "metadata": {
        "id": "view-in-github",
        "colab_type": "text"
      },
      "source": [
        "<a href=\"https://colab.research.google.com/github/spursbyte/algorithms_from_scratch/blob/main/kfold_crossvalid.ipynb\" target=\"_parent\"><img src=\"https://colab.research.google.com/assets/colab-badge.svg\" alt=\"Open In Colab\"/></a>"
      ]
    },
    {
      "cell_type": "code",
      "metadata": {
        "id": "kqC8ndE-9MIA"
      },
      "source": [
        "import pandas as pd\n",
        "from sklearn import model_selection"
      ],
      "execution_count": 2,
      "outputs": []
    },
    {
      "cell_type": "code",
      "metadata": {
        "id": "l6-uREcR90oD"
      },
      "source": [
        "if __name__ == '__main__':\n",
        "  df=pd.read_csv('train_csv')\n",
        "  #we create a new column and fill with -1\n",
        "  df['kfold']=-1\n",
        "  # randomize the rows\n",
        "  df=df.sample(frac=1).reset_index(drop=True)\n",
        "  #init the k fold class\n",
        "  kf=model_selection.KFold(n_splits=5)\n",
        "  #fill the new kfold column\n",
        "  for fold,(trn_,val_) in enumerate(kf.split(X=df)):\n",
        "    df.loc[val_,'kfold']=fold\n",
        "  #save the new csv with kfold column\n",
        "  df.to_csv('train_folds.csv',index=False)"
      ],
      "execution_count": null,
      "outputs": []
    }
  ]
}