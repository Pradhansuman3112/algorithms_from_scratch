{
  "nbformat": 4,
  "nbformat_minor": 0,
  "metadata": {
    "colab": {
      "name": "Untitled50.ipynb",
      "provenance": []
    },
    "kernelspec": {
      "name": "python3",
      "display_name": "Python 3"
    }
  },
  "cells": [
    {
      "cell_type": "code",
      "metadata": {
        "id": "zP67c8Qk78dP"
      },
      "source": [
        "#template for binary search\r\n",
        "def binary_search(lo, hi, condition):\r\n",
        "    \"\"\"TODO - add docs\"\"\"\r\n",
        "    while lo <= hi:\r\n",
        "        mid = (lo + hi) // 2\r\n",
        "        result = condition(mid)\r\n",
        "        if result == 'found':\r\n",
        "            return mid\r\n",
        "        elif result == 'left':\r\n",
        "            hi = mid - 1\r\n",
        "        else:\r\n",
        "            lo = mid + 1\r\n",
        "    return -1\r\n",
        "\r\n",
        "def first_position(nums, target):\r\n",
        "    def condition(mid):\r\n",
        "        if nums[mid] == target:\r\n",
        "            if mid > 0 and nums[mid-1] == target:\r\n",
        "                return 'left'\r\n",
        "            return 'found'\r\n",
        "        elif nums[mid] < target:\r\n",
        "            return 'right'\r\n",
        "        else:\r\n",
        "            return 'left'\r\n",
        "    return binary_search(0, len(nums)-1, condition)\r\n",
        "\r\n",
        "def last_position(nums, target):\r\n",
        "    def condition(mid):\r\n",
        "        if nums[mid] == target:\r\n",
        "            if mid < len(nums)-1 and nums[mid+1] == target:\r\n",
        "                return 'right'\r\n",
        "            return 'found'\r\n",
        "        elif nums[mid] < target:\r\n",
        "            return 'right'\r\n",
        "        else:\r\n",
        "            return 'left'\r\n",
        "    return binary_search(0, len(nums)-1, condition)\r\n",
        "\r\n",
        "def first_and_last_position(nums, target):\r\n",
        "    return first_position(nums, target), last_position(nums, target)"
      ],
      "execution_count": 1,
      "outputs": []
    }
  ]
}