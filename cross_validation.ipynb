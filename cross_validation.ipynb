{
  "nbformat": 4,
  "nbformat_minor": 0,
  "metadata": {
    "kernelspec": {
      "display_name": "Python 3",
      "language": "python",
      "name": "python3"
    },
    "language_info": {
      "codemirror_mode": {
        "name": "ipython",
        "version": 3
      },
      "file_extension": ".py",
      "mimetype": "text/x-python",
      "name": "python",
      "nbconvert_exporter": "python",
      "pygments_lexer": "ipython3",
      "version": "3.7.6"
    },
    "colab": {
      "name": "cross_validation.ipynb",
      "provenance": [],
      "include_colab_link": true
    }
  },
  "cells": [
    {
      "cell_type": "markdown",
      "metadata": {
        "id": "view-in-github",
        "colab_type": "text"
      },
      "source": [
        "<a href=\"https://colab.research.google.com/github/spursbyte/algorithms_from_scratch/blob/main/cross_validation.ipynb\" target=\"_parent\"><img src=\"https://colab.research.google.com/assets/colab-badge.svg\" alt=\"Open In Colab\"/></a>"
      ]
    },
    {
      "cell_type": "code",
      "metadata": {
        "id": "mA9DOr9ZnWKG"
      },
      "source": [
        "import pandas as pd\n",
        "from sklearn import tree\n",
        "from sklearn import metrics\n",
        "import matplotlib\n",
        "import matplotlib.pyplot as plt\n",
        "import seaborn as sns\n",
        "\n",
        "matplotlib.rc('xtick', labelsize=20)\n",
        "matplotlib.rc('ytick', labelsize=20)\n",
        "%matplotlib inline"
      ],
      "execution_count": 8,
      "outputs": []
    },
    {
      "cell_type": "code",
      "metadata": {
        "colab": {
          "base_uri": "https://localhost:8080/",
          "height": 238
        },
        "id": "dMiEQpfEnWKJ",
        "outputId": "7c130808-1638-49ba-998e-5cf56d68bfd4"
      },
      "source": [
        "df = pd.read_csv('winequality-red.csv')\n",
        "df.head()"
      ],
      "execution_count": 9,
      "outputs": [
        {
          "output_type": "execute_result",
          "data": {
            "text/html": [
              "<div>\n",
              "<style scoped>\n",
              "    .dataframe tbody tr th:only-of-type {\n",
              "        vertical-align: middle;\n",
              "    }\n",
              "\n",
              "    .dataframe tbody tr th {\n",
              "        vertical-align: top;\n",
              "    }\n",
              "\n",
              "    .dataframe thead th {\n",
              "        text-align: right;\n",
              "    }\n",
              "</style>\n",
              "<table border=\"1\" class=\"dataframe\">\n",
              "  <thead>\n",
              "    <tr style=\"text-align: right;\">\n",
              "      <th></th>\n",
              "      <th>fixed acidity</th>\n",
              "      <th>volatile acidity</th>\n",
              "      <th>citric acid</th>\n",
              "      <th>residual sugar</th>\n",
              "      <th>chlorides</th>\n",
              "      <th>free sulfur dioxide</th>\n",
              "      <th>total sulfur dioxide</th>\n",
              "      <th>density</th>\n",
              "      <th>pH</th>\n",
              "      <th>sulphates</th>\n",
              "      <th>alcohol</th>\n",
              "      <th>quality</th>\n",
              "    </tr>\n",
              "  </thead>\n",
              "  <tbody>\n",
              "    <tr>\n",
              "      <th>0</th>\n",
              "      <td>7.4</td>\n",
              "      <td>0.70</td>\n",
              "      <td>0.00</td>\n",
              "      <td>1.9</td>\n",
              "      <td>0.076</td>\n",
              "      <td>11.0</td>\n",
              "      <td>34.0</td>\n",
              "      <td>0.9978</td>\n",
              "      <td>3.51</td>\n",
              "      <td>0.56</td>\n",
              "      <td>9.4</td>\n",
              "      <td>5</td>\n",
              "    </tr>\n",
              "    <tr>\n",
              "      <th>1</th>\n",
              "      <td>7.8</td>\n",
              "      <td>0.88</td>\n",
              "      <td>0.00</td>\n",
              "      <td>2.6</td>\n",
              "      <td>0.098</td>\n",
              "      <td>25.0</td>\n",
              "      <td>67.0</td>\n",
              "      <td>0.9968</td>\n",
              "      <td>3.20</td>\n",
              "      <td>0.68</td>\n",
              "      <td>9.8</td>\n",
              "      <td>5</td>\n",
              "    </tr>\n",
              "    <tr>\n",
              "      <th>2</th>\n",
              "      <td>7.8</td>\n",
              "      <td>0.76</td>\n",
              "      <td>0.04</td>\n",
              "      <td>2.3</td>\n",
              "      <td>0.092</td>\n",
              "      <td>15.0</td>\n",
              "      <td>54.0</td>\n",
              "      <td>0.9970</td>\n",
              "      <td>3.26</td>\n",
              "      <td>0.65</td>\n",
              "      <td>9.8</td>\n",
              "      <td>5</td>\n",
              "    </tr>\n",
              "    <tr>\n",
              "      <th>3</th>\n",
              "      <td>11.2</td>\n",
              "      <td>0.28</td>\n",
              "      <td>0.56</td>\n",
              "      <td>1.9</td>\n",
              "      <td>0.075</td>\n",
              "      <td>17.0</td>\n",
              "      <td>60.0</td>\n",
              "      <td>0.9980</td>\n",
              "      <td>3.16</td>\n",
              "      <td>0.58</td>\n",
              "      <td>9.8</td>\n",
              "      <td>6</td>\n",
              "    </tr>\n",
              "    <tr>\n",
              "      <th>4</th>\n",
              "      <td>7.4</td>\n",
              "      <td>0.70</td>\n",
              "      <td>0.00</td>\n",
              "      <td>1.9</td>\n",
              "      <td>0.076</td>\n",
              "      <td>11.0</td>\n",
              "      <td>34.0</td>\n",
              "      <td>0.9978</td>\n",
              "      <td>3.51</td>\n",
              "      <td>0.56</td>\n",
              "      <td>9.4</td>\n",
              "      <td>5</td>\n",
              "    </tr>\n",
              "  </tbody>\n",
              "</table>\n",
              "</div>"
            ],
            "text/plain": [
              "   fixed acidity  volatile acidity  citric acid  ...  sulphates  alcohol  quality\n",
              "0            7.4              0.70         0.00  ...       0.56      9.4        5\n",
              "1            7.8              0.88         0.00  ...       0.68      9.8        5\n",
              "2            7.8              0.76         0.04  ...       0.65      9.8        5\n",
              "3           11.2              0.28         0.56  ...       0.58      9.8        6\n",
              "4            7.4              0.70         0.00  ...       0.56      9.4        5\n",
              "\n",
              "[5 rows x 12 columns]"
            ]
          },
          "metadata": {
            "tags": []
          },
          "execution_count": 9
        }
      ]
    },
    {
      "cell_type": "code",
      "metadata": {
        "colab": {
          "base_uri": "https://localhost:8080/"
        },
        "id": "B0I_lMDenWKL",
        "outputId": "90404bd3-f559-4074-f763-a0d3ef2b28ff"
      },
      "source": [
        "df['quality'].value_counts()"
      ],
      "execution_count": 10,
      "outputs": [
        {
          "output_type": "execute_result",
          "data": {
            "text/plain": [
              "5    681\n",
              "6    638\n",
              "7    199\n",
              "4     53\n",
              "8     18\n",
              "3     10\n",
              "Name: quality, dtype: int64"
            ]
          },
          "metadata": {
            "tags": []
          },
          "execution_count": 10
        }
      ]
    },
    {
      "cell_type": "code",
      "metadata": {
        "id": "-PSI8OOPnWKL"
      },
      "source": [
        "# mapping dictionary that maps the quality values from 0 to 5\n",
        "quality_mapping = {\n",
        "    3: 0,\n",
        "    4: 1,\n",
        "    5: 2,\n",
        "    6: 3,\n",
        "    7: 4,\n",
        "    8: 5\n",
        "}\n",
        "\n",
        "# lets change the quality column with our new values based on the mapping dictionary\n",
        "df.loc[:, 'quality'] = df.quality.map(quality_mapping)"
      ],
      "execution_count": 11,
      "outputs": []
    },
    {
      "cell_type": "code",
      "metadata": {
        "colab": {
          "base_uri": "https://localhost:8080/"
        },
        "id": "baGd1Oe2nWKM",
        "outputId": "da66690a-dfee-47ff-b303-0c54ecf35a13"
      },
      "source": [
        "df['quality'].value_counts()"
      ],
      "execution_count": 12,
      "outputs": [
        {
          "output_type": "execute_result",
          "data": {
            "text/plain": [
              "2    681\n",
              "3    638\n",
              "4    199\n",
              "1     53\n",
              "5     18\n",
              "0     10\n",
              "Name: quality, dtype: int64"
            ]
          },
          "metadata": {
            "tags": []
          },
          "execution_count": 12
        }
      ]
    },
    {
      "cell_type": "markdown",
      "metadata": {
        "id": "jr2_98iUnWKN"
      },
      "source": [
        "## Splitting the data"
      ]
    },
    {
      "cell_type": "code",
      "metadata": {
        "colab": {
          "base_uri": "https://localhost:8080/"
        },
        "id": "y2ignqtTnWKN",
        "outputId": "7435c79d-fc96-4eb2-e6f4-6ba4c915d4e9"
      },
      "source": [
        "df.shape"
      ],
      "execution_count": 13,
      "outputs": [
        {
          "output_type": "execute_result",
          "data": {
            "text/plain": [
              "(1599, 12)"
            ]
          },
          "metadata": {
            "tags": []
          },
          "execution_count": 13
        }
      ]
    },
    {
      "cell_type": "code",
      "metadata": {
        "id": "5jkNjKBrnWKO"
      },
      "source": [
        "# shuffle the dataset\n",
        "df = df.sample(frac=1).reset_index(drop=True)\n",
        "\n",
        "# lets select the top 1000 for training\n",
        "df_train = df.head(1000)\n",
        "\n",
        "# and the bottom 599 for testing\n",
        "df_test = df.tail(599)"
      ],
      "execution_count": 14,
      "outputs": []
    },
    {
      "cell_type": "markdown",
      "metadata": {
        "id": "UmebVyxYnWKO"
      },
      "source": [
        "## Train a Decision Tree"
      ]
    },
    {
      "cell_type": "code",
      "metadata": {
        "colab": {
          "base_uri": "https://localhost:8080/"
        },
        "id": "7bYIvK76nWKO",
        "outputId": "363ae1a2-40d1-4c11-dc56-ba767d2ebc4c"
      },
      "source": [
        "clf = tree.DecisionTreeClassifier(max_depth=7)\n",
        "\n",
        "# features of the model\n",
        "cols = ['fixed acidity',\n",
        "        'volatile acidity',\n",
        "        'citric acid',\n",
        "        'residual sugar',\n",
        "        'chlorides',\n",
        "        'free sulfur dioxide',\n",
        "        'total sulfur dioxide',\n",
        "        'density',\n",
        "        'pH',\n",
        "        'sulphates',\n",
        "        'alcohol']\n",
        "\n",
        "# train the model\n",
        "clf.fit(df_train[cols], df_train.quality)"
      ],
      "execution_count": 15,
      "outputs": [
        {
          "output_type": "execute_result",
          "data": {
            "text/plain": [
              "DecisionTreeClassifier(ccp_alpha=0.0, class_weight=None, criterion='gini',\n",
              "                       max_depth=7, max_features=None, max_leaf_nodes=None,\n",
              "                       min_impurity_decrease=0.0, min_impurity_split=None,\n",
              "                       min_samples_leaf=1, min_samples_split=2,\n",
              "                       min_weight_fraction_leaf=0.0, presort='deprecated',\n",
              "                       random_state=None, splitter='best')"
            ]
          },
          "metadata": {
            "tags": []
          },
          "execution_count": 15
        }
      ]
    },
    {
      "cell_type": "markdown",
      "metadata": {
        "id": "iC9MfxvsnWKP"
      },
      "source": [
        "## Generate Predictions"
      ]
    },
    {
      "cell_type": "code",
      "metadata": {
        "colab": {
          "base_uri": "https://localhost:8080/"
        },
        "id": "L743hFcInWKP",
        "outputId": "54d9bbfd-70e0-43b5-de2b-9a8398297e0c"
      },
      "source": [
        "# predict over the train set\n",
        "train_predictions = clf.predict(df_train[cols])\n",
        "\n",
        "# predict over the test set\n",
        "test_predictions = clf.predict(df_test[cols])\n",
        "\n",
        "# calculate accuracy on the train set\n",
        "train_accuracy = metrics.accuracy_score(df_train.quality, train_predictions)\n",
        "\n",
        "# calculate accuracy on the test set\n",
        "test_accuracy = metrics.accuracy_score(df_test.quality, test_predictions)\n",
        "\n",
        "\n",
        "print(f'train_accuracy: {train_accuracy}')\n",
        "print(f'test_accuracy: {test_accuracy}')"
      ],
      "execution_count": 16,
      "outputs": [
        {
          "output_type": "stream",
          "text": [
            "train_accuracy: 0.754\n",
            "test_accuracy: 0.5242070116861436\n"
          ],
          "name": "stdout"
        }
      ]
    },
    {
      "cell_type": "markdown",
      "metadata": {
        "id": "5NUahN8FnWKQ"
      },
      "source": [
        "## Training with different max_depths"
      ]
    },
    {
      "cell_type": "code",
      "metadata": {
        "colab": {
          "base_uri": "https://localhost:8080/",
          "height": 353
        },
        "id": "EzwzAnaInWKQ",
        "outputId": "a514ce5c-4064-4b9e-ca10-6bafb7d60322"
      },
      "source": [
        "train_accuracies = [0.5]\n",
        "test_accuracies = [0.5]\n",
        "\n",
        "# iterata over a few depth values\n",
        "for depth in range(1, 25):\n",
        "    # init model\n",
        "    clf = tree.DecisionTreeClassifier(max_depth=depth)\n",
        "    \n",
        "    # fit the model\n",
        "    clf.fit(df_train[cols], df_train.quality)\n",
        "    \n",
        "    # training and test predictions\n",
        "    train_predictions = clf.predict(df_train[cols])\n",
        "    test_predictions = clf.predict(df_test[cols])\n",
        "\n",
        "    # training and test acurracies\n",
        "    train_accuracy = metrics.accuracy_score(df_train.quality, train_predictions)\n",
        "    test_accuracy = metrics.accuracy_score(df_test.quality, test_predictions)\n",
        "    \n",
        "    # append accuracies\n",
        "    train_accuracies.append(train_accuracy)\n",
        "    test_accuracies.append(test_accuracy)\n",
        "\n",
        "# create the plots\n",
        "plt.figure(figsize=(10, 5))\n",
        "sns.set_style(\"whitegrid\")\n",
        "plt.plot(train_accuracies, label=\"train accuracy\")\n",
        "plt.plot(test_accuracies, label=\"test accuracy\")\n",
        "plt.legend(loc=\"upper left\", prop={'size': 15})\n",
        "plt.xticks(range(0, 26, 5))\n",
        "plt.xlabel(\"max_depth\", size=20)\n",
        "plt.ylabel(\"accuracy\", size=20)\n",
        "plt.show()"
      ],
      "execution_count": 17,
      "outputs": [
        {
          "output_type": "display_data",
          "data": {
            "image/png": "[encoded data removed]",
            "text/plain": [
              "<Figure size 720x360 with 1 Axes>"
            ]
          },
          "metadata": {
            "tags": [],
            "needs_background": "light"
          }
        }
      ]
    },
    {
      "cell_type": "code",
      "metadata": {
        "colab": {
          "base_uri": "https://localhost:8080/",
          "height": 314
        },
        "id": "AwRcdT0MnWKR",
        "outputId": "2fbb9f3c-bfad-44b5-b248-8d4175e3d1fa"
      },
      "source": [
        "b = sns.countplot(x='quality', data=df)\n",
        "b.set_xlabel(\"quality\", fontsize=20)\n",
        "b.set_ylabel(\"count\", fontsize=20)"
      ],
      "execution_count": 18,
      "outputs": [
        {
          "output_type": "execute_result",
          "data": {
            "text/plain": [
              "Text(0, 0.5, 'count')"
            ]
          },
          "metadata": {
            "tags": []
          },
          "execution_count": 18
        },
        {
          "output_type": "display_data",
          "data": {
            "image/png": "[encoded data removed]",
            "text/plain": [
              "<Figure size 432x288 with 1 Axes>"
            ]
          },
          "metadata": {
            "tags": []
          }
        }
      ]
    },
    {
      "cell_type": "markdown",
      "metadata": {
        "id": "c70Er2-BnWKS"
      },
      "source": [
        "## Stratified k-fold for a regression dataset"
      ]
    },
    {
      "cell_type": "code",
      "metadata": {
        "id": "6KwK69TVnWKS"
      },
      "source": [
        "import numpy as np\n",
        "import pandas as pd\n",
        "\n",
        "from sklearn import datasets\n",
        "from sklearn import model_selection"
      ],
      "execution_count": 19,
      "outputs": []
    },
    {
      "cell_type": "code",
      "metadata": {
        "id": "Gyf4z3NFnWKT"
      },
      "source": [
        "def create_folds(data):\n",
        "    # create a column called kfold and filled it whit -1\n",
        "    data[\"kfold\"] = -1\n",
        "    \n",
        "    # next we are gonna shuffle the rows\n",
        "    data = data.sample(frac=1).reset_index(drop=True)\n",
        "    \n",
        "    # calculate the number of bins by Sturge's rule\n",
        "    num_bins = np.floor(1 + np.log2(len(data))).astype(int)\n",
        "\n",
        "    # bin targets\n",
        "    data.loc[:, \"bins\"] = pd.cut(data['target'], bins=num_bins, labels=False)\n",
        "    \n",
        "    # init stratified kfold\n",
        "    kf = model_selection.StratifiedKFold(n_splits=5)\n",
        "    \n",
        "    # fill the new kfold column\n",
        "    for f, (t_, v_) in enumerate(kf.split(X=data, y=data.bins.values)):\n",
        "        data.loc[v_, 'kfold'] = f\n",
        "    \n",
        "    data = data.drop(\"bins\", axis=1)\n",
        "    return data\n",
        "\n",
        "\n",
        "if __name__ == \"__main__\":\n",
        "    # we create a sample dataset with 15000 samples and 100 features and 1 target\n",
        "    X, y = datasets.make_regression(n_samples=15000, n_features=100, n_targets=1)\n",
        "    \n",
        "    # convert to a dataframe\n",
        "    df = pd.DataFrame(X, columns=[f\"f_{i}\" for i in range(X.shape[1])])\n",
        "    df.loc[:, \"target\"] = y\n",
        "    \n",
        "    # create folds\n",
        "    df = create_folds(df)"
      ],
      "execution_count": 20,
      "outputs": []
    },
    {
      "cell_type": "code",
      "metadata": {
        "colab": {
          "base_uri": "https://localhost:8080/",
          "height": 253
        },
        "id": "xwNm8_BhFJZR",
        "outputId": "03b616df-48e3-4f3a-beca-126731bb668a"
      },
      "source": [
        "df.head()"
      ],
      "execution_count": 22,
      "outputs": [
        {
          "output_type": "execute_result",
          "data": {
            "text/html": [
              "<div>\n",
              "<style scoped>\n",
              "    .dataframe tbody tr th:only-of-type {\n",
              "        vertical-align: middle;\n",
              "    }\n",
              "\n",
              "    .dataframe tbody tr th {\n",
              "        vertical-align: top;\n",
              "    }\n",
              "\n",
              "    .dataframe thead th {\n",
              "        text-align: right;\n",
              "    }\n",
              "</style>\n",
              "<table border=\"1\" class=\"dataframe\">\n",
              "  <thead>\n",
              "    <tr style=\"text-align: right;\">\n",
              "      <th></th>\n",
              "      <th>f_0</th>\n",
              "      <th>f_1</th>\n",
              "      <th>f_2</th>\n",
              "      <th>f_3</th>\n",
              "      <th>f_4</th>\n",
              "      <th>f_5</th>\n",
              "      <th>f_6</th>\n",
              "      <th>f_7</th>\n",
              "      <th>f_8</th>\n",
              "      <th>f_9</th>\n",
              "      <th>f_10</th>\n",
              "      <th>f_11</th>\n",
              "      <th>f_12</th>\n",
              "      <th>f_13</th>\n",
              "      <th>f_14</th>\n",
              "      <th>f_15</th>\n",
              "      <th>f_16</th>\n",
              "      <th>f_17</th>\n",
              "      <th>f_18</th>\n",
              "      <th>f_19</th>\n",
              "      <th>f_20</th>\n",
              "      <th>f_21</th>\n",
              "      <th>f_22</th>\n",
              "      <th>f_23</th>\n",
              "      <th>f_24</th>\n",
              "      <th>f_25</th>\n",
              "      <th>f_26</th>\n",
              "      <th>f_27</th>\n",
              "      <th>f_28</th>\n",
              "      <th>f_29</th>\n",
              "      <th>f_30</th>\n",
              "      <th>f_31</th>\n",
              "      <th>f_32</th>\n",
              "      <th>f_33</th>\n",
              "      <th>f_34</th>\n",
              "      <th>f_35</th>\n",
              "      <th>f_36</th>\n",
              "      <th>f_37</th>\n",
              "      <th>f_38</th>\n",
              "      <th>f_39</th>\n",
              "      <th>...</th>\n",
              "      <th>f_62</th>\n",
              "      <th>f_63</th>\n",
              "      <th>f_64</th>\n",
              "      <th>f_65</th>\n",
              "      <th>f_66</th>\n",
              "      <th>f_67</th>\n",
              "      <th>f_68</th>\n",
              "      <th>f_69</th>\n",
              "      <th>f_70</th>\n",
              "      <th>f_71</th>\n",
              "      <th>f_72</th>\n",
              "      <th>f_73</th>\n",
              "      <th>f_74</th>\n",
              "      <th>f_75</th>\n",
              "      <th>f_76</th>\n",
              "      <th>f_77</th>\n",
              "      <th>f_78</th>\n",
              "      <th>f_79</th>\n",
              "      <th>f_80</th>\n",
              "      <th>f_81</th>\n",
              "      <th>f_82</th>\n",
              "      <th>f_83</th>\n",
              "      <th>f_84</th>\n",
              "      <th>f_85</th>\n",
              "      <th>f_86</th>\n",
              "      <th>f_87</th>\n",
              "      <th>f_88</th>\n",
              "      <th>f_89</th>\n",
              "      <th>f_90</th>\n",
              "      <th>f_91</th>\n",
              "      <th>f_92</th>\n",
              "      <th>f_93</th>\n",
              "      <th>f_94</th>\n",
              "      <th>f_95</th>\n",
              "      <th>f_96</th>\n",
              "      <th>f_97</th>\n",
              "      <th>f_98</th>\n",
              "      <th>f_99</th>\n",
              "      <th>target</th>\n",
              "      <th>kfold</th>\n",
              "    </tr>\n",
              "  </thead>\n",
              "  <tbody>\n",
              "    <tr>\n",
              "      <th>0</th>\n",
              "      <td>-1.417085</td>\n",
              "      <td>0.666266</td>\n",
              "      <td>-0.666399</td>\n",
              "      <td>-1.209214</td>\n",
              "      <td>1.222314</td>\n",
              "      <td>0.979334</td>\n",
              "      <td>-1.165562</td>\n",
              "      <td>0.716431</td>\n",
              "      <td>-0.575718</td>\n",
              "      <td>-1.097014</td>\n",
              "      <td>0.037881</td>\n",
              "      <td>0.045984</td>\n",
              "      <td>-1.657645</td>\n",
              "      <td>-1.679993</td>\n",
              "      <td>1.637712</td>\n",
              "      <td>1.066606</td>\n",
              "      <td>-0.324877</td>\n",
              "      <td>1.472586</td>\n",
              "      <td>-0.508859</td>\n",
              "      <td>1.207708</td>\n",
              "      <td>-1.248806</td>\n",
              "      <td>-2.087267</td>\n",
              "      <td>0.232099</td>\n",
              "      <td>0.569545</td>\n",
              "      <td>0.194310</td>\n",
              "      <td>0.722436</td>\n",
              "      <td>-0.293249</td>\n",
              "      <td>0.730847</td>\n",
              "      <td>-0.965759</td>\n",
              "      <td>0.391982</td>\n",
              "      <td>0.803230</td>\n",
              "      <td>-1.918164</td>\n",
              "      <td>0.306893</td>\n",
              "      <td>-0.421539</td>\n",
              "      <td>1.280251</td>\n",
              "      <td>0.250784</td>\n",
              "      <td>0.578511</td>\n",
              "      <td>-1.017760</td>\n",
              "      <td>-1.006094</td>\n",
              "      <td>0.488385</td>\n",
              "      <td>...</td>\n",
              "      <td>-0.290847</td>\n",
              "      <td>-0.241755</td>\n",
              "      <td>-2.777390</td>\n",
              "      <td>1.876176</td>\n",
              "      <td>-0.476311</td>\n",
              "      <td>0.094601</td>\n",
              "      <td>-0.252947</td>\n",
              "      <td>1.318407</td>\n",
              "      <td>0.119234</td>\n",
              "      <td>-0.038888</td>\n",
              "      <td>0.311380</td>\n",
              "      <td>-1.185302</td>\n",
              "      <td>0.871143</td>\n",
              "      <td>-0.041992</td>\n",
              "      <td>0.701690</td>\n",
              "      <td>-1.136619</td>\n",
              "      <td>0.181919</td>\n",
              "      <td>-1.159578</td>\n",
              "      <td>-1.063300</td>\n",
              "      <td>-0.154446</td>\n",
              "      <td>0.761815</td>\n",
              "      <td>0.118449</td>\n",
              "      <td>-1.380726</td>\n",
              "      <td>-1.084661</td>\n",
              "      <td>0.614264</td>\n",
              "      <td>-2.155327</td>\n",
              "      <td>0.770018</td>\n",
              "      <td>-1.131004</td>\n",
              "      <td>-0.127905</td>\n",
              "      <td>0.162228</td>\n",
              "      <td>-2.212278</td>\n",
              "      <td>-0.999032</td>\n",
              "      <td>0.920551</td>\n",
              "      <td>-0.396220</td>\n",
              "      <td>0.672408</td>\n",
              "      <td>1.112927</td>\n",
              "      <td>-0.018737</td>\n",
              "      <td>-0.717846</td>\n",
              "      <td>-87.192128</td>\n",
              "      <td>0</td>\n",
              "    </tr>\n",
              "    <tr>\n",
              "      <th>1</th>\n",
              "      <td>-0.013326</td>\n",
              "      <td>-0.003051</td>\n",
              "      <td>-1.370892</td>\n",
              "      <td>-1.860962</td>\n",
              "      <td>0.161168</td>\n",
              "      <td>-0.917242</td>\n",
              "      <td>-1.250209</td>\n",
              "      <td>-0.373372</td>\n",
              "      <td>-1.923460</td>\n",
              "      <td>0.052496</td>\n",
              "      <td>1.080588</td>\n",
              "      <td>-0.174946</td>\n",
              "      <td>-1.494564</td>\n",
              "      <td>0.882962</td>\n",
              "      <td>-0.580477</td>\n",
              "      <td>1.545358</td>\n",
              "      <td>1.924489</td>\n",
              "      <td>1.180958</td>\n",
              "      <td>0.815329</td>\n",
              "      <td>-1.135344</td>\n",
              "      <td>0.518409</td>\n",
              "      <td>-0.927101</td>\n",
              "      <td>-0.111048</td>\n",
              "      <td>0.476264</td>\n",
              "      <td>1.134421</td>\n",
              "      <td>1.077371</td>\n",
              "      <td>-0.013031</td>\n",
              "      <td>0.159228</td>\n",
              "      <td>-0.410873</td>\n",
              "      <td>-0.656736</td>\n",
              "      <td>0.913817</td>\n",
              "      <td>0.086307</td>\n",
              "      <td>1.695665</td>\n",
              "      <td>-0.440976</td>\n",
              "      <td>-0.544712</td>\n",
              "      <td>0.526369</td>\n",
              "      <td>-0.140509</td>\n",
              "      <td>0.535152</td>\n",
              "      <td>0.335436</td>\n",
              "      <td>0.663221</td>\n",
              "      <td>...</td>\n",
              "      <td>-0.554000</td>\n",
              "      <td>-0.985693</td>\n",
              "      <td>-0.613684</td>\n",
              "      <td>2.227133</td>\n",
              "      <td>-0.180820</td>\n",
              "      <td>0.333533</td>\n",
              "      <td>0.572060</td>\n",
              "      <td>-0.632631</td>\n",
              "      <td>-0.264012</td>\n",
              "      <td>1.372886</td>\n",
              "      <td>0.012387</td>\n",
              "      <td>0.325026</td>\n",
              "      <td>-1.645834</td>\n",
              "      <td>-0.616530</td>\n",
              "      <td>1.087436</td>\n",
              "      <td>0.529451</td>\n",
              "      <td>-1.534495</td>\n",
              "      <td>0.320144</td>\n",
              "      <td>-0.506291</td>\n",
              "      <td>-0.771483</td>\n",
              "      <td>-1.116643</td>\n",
              "      <td>-0.289099</td>\n",
              "      <td>-0.461804</td>\n",
              "      <td>-1.225148</td>\n",
              "      <td>-0.610392</td>\n",
              "      <td>-0.691935</td>\n",
              "      <td>0.497447</td>\n",
              "      <td>-0.190312</td>\n",
              "      <td>0.249915</td>\n",
              "      <td>-0.075305</td>\n",
              "      <td>-0.628787</td>\n",
              "      <td>0.072949</td>\n",
              "      <td>-0.756414</td>\n",
              "      <td>-1.160808</td>\n",
              "      <td>-0.119717</td>\n",
              "      <td>-0.005463</td>\n",
              "      <td>0.228192</td>\n",
              "      <td>0.625895</td>\n",
              "      <td>61.468354</td>\n",
              "      <td>0</td>\n",
              "    </tr>\n",
              "    <tr>\n",
              "      <th>2</th>\n",
              "      <td>0.242002</td>\n",
              "      <td>0.273441</td>\n",
              "      <td>-0.552751</td>\n",
              "      <td>-0.364034</td>\n",
              "      <td>-1.635173</td>\n",
              "      <td>-0.611531</td>\n",
              "      <td>-1.823560</td>\n",
              "      <td>-0.009436</td>\n",
              "      <td>-0.585917</td>\n",
              "      <td>-0.842261</td>\n",
              "      <td>-1.029503</td>\n",
              "      <td>-0.082451</td>\n",
              "      <td>-0.716060</td>\n",
              "      <td>-0.883403</td>\n",
              "      <td>-0.616498</td>\n",
              "      <td>-0.256352</td>\n",
              "      <td>1.156155</td>\n",
              "      <td>-0.145536</td>\n",
              "      <td>-0.561151</td>\n",
              "      <td>-0.346610</td>\n",
              "      <td>-1.006811</td>\n",
              "      <td>-0.315422</td>\n",
              "      <td>0.577846</td>\n",
              "      <td>-0.103263</td>\n",
              "      <td>2.044205</td>\n",
              "      <td>0.414060</td>\n",
              "      <td>-0.786663</td>\n",
              "      <td>2.107935</td>\n",
              "      <td>-0.874925</td>\n",
              "      <td>0.669997</td>\n",
              "      <td>0.580388</td>\n",
              "      <td>-0.858482</td>\n",
              "      <td>0.647974</td>\n",
              "      <td>-0.574587</td>\n",
              "      <td>-0.205759</td>\n",
              "      <td>-0.326773</td>\n",
              "      <td>0.760189</td>\n",
              "      <td>0.809876</td>\n",
              "      <td>1.054386</td>\n",
              "      <td>1.485475</td>\n",
              "      <td>...</td>\n",
              "      <td>1.377355</td>\n",
              "      <td>-0.049498</td>\n",
              "      <td>-0.273220</td>\n",
              "      <td>0.129252</td>\n",
              "      <td>-0.953252</td>\n",
              "      <td>-0.181750</td>\n",
              "      <td>0.174661</td>\n",
              "      <td>0.059482</td>\n",
              "      <td>0.515215</td>\n",
              "      <td>0.216754</td>\n",
              "      <td>-1.035525</td>\n",
              "      <td>-1.406457</td>\n",
              "      <td>-2.530506</td>\n",
              "      <td>-0.798959</td>\n",
              "      <td>-0.273773</td>\n",
              "      <td>0.016150</td>\n",
              "      <td>-0.548702</td>\n",
              "      <td>0.690650</td>\n",
              "      <td>1.296003</td>\n",
              "      <td>-1.136829</td>\n",
              "      <td>1.642232</td>\n",
              "      <td>0.067766</td>\n",
              "      <td>-0.006071</td>\n",
              "      <td>0.159283</td>\n",
              "      <td>-2.957245</td>\n",
              "      <td>-1.656218</td>\n",
              "      <td>0.777753</td>\n",
              "      <td>-1.739059</td>\n",
              "      <td>0.733348</td>\n",
              "      <td>0.150476</td>\n",
              "      <td>1.045676</td>\n",
              "      <td>0.172487</td>\n",
              "      <td>1.262555</td>\n",
              "      <td>1.959399</td>\n",
              "      <td>-0.942873</td>\n",
              "      <td>-0.887405</td>\n",
              "      <td>-1.005566</td>\n",
              "      <td>1.032900</td>\n",
              "      <td>-428.646994</td>\n",
              "      <td>0</td>\n",
              "    </tr>\n",
              "    <tr>\n",
              "      <th>3</th>\n",
              "      <td>0.788160</td>\n",
              "      <td>0.423028</td>\n",
              "      <td>-1.396354</td>\n",
              "      <td>0.178402</td>\n",
              "      <td>0.011607</td>\n",
              "      <td>-0.654787</td>\n",
              "      <td>-1.306840</td>\n",
              "      <td>-0.119889</td>\n",
              "      <td>-0.093143</td>\n",
              "      <td>1.450990</td>\n",
              "      <td>0.221073</td>\n",
              "      <td>-1.530223</td>\n",
              "      <td>0.235798</td>\n",
              "      <td>-0.085048</td>\n",
              "      <td>1.138226</td>\n",
              "      <td>1.206331</td>\n",
              "      <td>-0.728393</td>\n",
              "      <td>-1.720297</td>\n",
              "      <td>0.283959</td>\n",
              "      <td>-0.669145</td>\n",
              "      <td>-0.845570</td>\n",
              "      <td>0.156240</td>\n",
              "      <td>-0.493136</td>\n",
              "      <td>0.145252</td>\n",
              "      <td>-1.703406</td>\n",
              "      <td>-1.260200</td>\n",
              "      <td>1.209932</td>\n",
              "      <td>-0.451943</td>\n",
              "      <td>-0.333619</td>\n",
              "      <td>0.088463</td>\n",
              "      <td>0.294316</td>\n",
              "      <td>0.813654</td>\n",
              "      <td>-0.380018</td>\n",
              "      <td>0.651808</td>\n",
              "      <td>1.074078</td>\n",
              "      <td>1.531626</td>\n",
              "      <td>-2.201835</td>\n",
              "      <td>0.071346</td>\n",
              "      <td>0.496880</td>\n",
              "      <td>0.049217</td>\n",
              "      <td>...</td>\n",
              "      <td>-1.165460</td>\n",
              "      <td>0.074051</td>\n",
              "      <td>0.373614</td>\n",
              "      <td>0.865549</td>\n",
              "      <td>-0.341298</td>\n",
              "      <td>-1.176528</td>\n",
              "      <td>-0.028964</td>\n",
              "      <td>-0.662559</td>\n",
              "      <td>0.056112</td>\n",
              "      <td>0.105277</td>\n",
              "      <td>0.694728</td>\n",
              "      <td>-0.461676</td>\n",
              "      <td>0.355126</td>\n",
              "      <td>1.112666</td>\n",
              "      <td>1.247262</td>\n",
              "      <td>-0.703173</td>\n",
              "      <td>-0.668094</td>\n",
              "      <td>-1.192563</td>\n",
              "      <td>-1.945857</td>\n",
              "      <td>-0.188457</td>\n",
              "      <td>-1.246344</td>\n",
              "      <td>1.139787</td>\n",
              "      <td>1.496282</td>\n",
              "      <td>0.172977</td>\n",
              "      <td>0.925403</td>\n",
              "      <td>0.633327</td>\n",
              "      <td>1.059962</td>\n",
              "      <td>-0.035376</td>\n",
              "      <td>1.662814</td>\n",
              "      <td>0.444467</td>\n",
              "      <td>1.126820</td>\n",
              "      <td>-0.130358</td>\n",
              "      <td>-0.317803</td>\n",
              "      <td>-0.738728</td>\n",
              "      <td>0.030083</td>\n",
              "      <td>0.026494</td>\n",
              "      <td>-0.087695</td>\n",
              "      <td>-0.210402</td>\n",
              "      <td>244.481952</td>\n",
              "      <td>0</td>\n",
              "    </tr>\n",
              "    <tr>\n",
              "      <th>4</th>\n",
              "      <td>-0.125734</td>\n",
              "      <td>-0.302216</td>\n",
              "      <td>-2.445732</td>\n",
              "      <td>1.734598</td>\n",
              "      <td>0.290221</td>\n",
              "      <td>0.339779</td>\n",
              "      <td>-0.332496</td>\n",
              "      <td>-1.056612</td>\n",
              "      <td>0.394841</td>\n",
              "      <td>0.825293</td>\n",
              "      <td>-1.265694</td>\n",
              "      <td>2.100441</td>\n",
              "      <td>-0.205934</td>\n",
              "      <td>1.278191</td>\n",
              "      <td>0.187933</td>\n",
              "      <td>1.378857</td>\n",
              "      <td>0.132540</td>\n",
              "      <td>0.317018</td>\n",
              "      <td>0.353352</td>\n",
              "      <td>-1.424281</td>\n",
              "      <td>0.275899</td>\n",
              "      <td>0.141848</td>\n",
              "      <td>0.511164</td>\n",
              "      <td>0.426245</td>\n",
              "      <td>0.761274</td>\n",
              "      <td>0.499204</td>\n",
              "      <td>-0.317816</td>\n",
              "      <td>0.775169</td>\n",
              "      <td>-1.392257</td>\n",
              "      <td>-0.733419</td>\n",
              "      <td>-0.834619</td>\n",
              "      <td>-0.330705</td>\n",
              "      <td>-1.110958</td>\n",
              "      <td>0.124705</td>\n",
              "      <td>-0.456632</td>\n",
              "      <td>-0.357787</td>\n",
              "      <td>-0.346867</td>\n",
              "      <td>-0.467341</td>\n",
              "      <td>1.431974</td>\n",
              "      <td>0.560810</td>\n",
              "      <td>...</td>\n",
              "      <td>0.697781</td>\n",
              "      <td>-1.360765</td>\n",
              "      <td>0.122427</td>\n",
              "      <td>1.251495</td>\n",
              "      <td>-0.338515</td>\n",
              "      <td>-0.545237</td>\n",
              "      <td>1.516765</td>\n",
              "      <td>1.862301</td>\n",
              "      <td>0.389086</td>\n",
              "      <td>-0.921811</td>\n",
              "      <td>0.805088</td>\n",
              "      <td>0.849840</td>\n",
              "      <td>1.437362</td>\n",
              "      <td>-1.175346</td>\n",
              "      <td>0.824771</td>\n",
              "      <td>-2.323208</td>\n",
              "      <td>1.707278</td>\n",
              "      <td>0.610059</td>\n",
              "      <td>-0.493822</td>\n",
              "      <td>-1.303154</td>\n",
              "      <td>-0.217351</td>\n",
              "      <td>0.489224</td>\n",
              "      <td>-0.317448</td>\n",
              "      <td>0.272679</td>\n",
              "      <td>0.947752</td>\n",
              "      <td>-1.064100</td>\n",
              "      <td>-0.274759</td>\n",
              "      <td>0.916177</td>\n",
              "      <td>-1.053320</td>\n",
              "      <td>-1.744946</td>\n",
              "      <td>-0.505738</td>\n",
              "      <td>-0.140881</td>\n",
              "      <td>1.592411</td>\n",
              "      <td>-1.422393</td>\n",
              "      <td>0.658378</td>\n",
              "      <td>0.739370</td>\n",
              "      <td>-0.695730</td>\n",
              "      <td>0.370621</td>\n",
              "      <td>34.225967</td>\n",
              "      <td>0</td>\n",
              "    </tr>\n",
              "  </tbody>\n",
              "</table>\n",
              "<p>5 rows × 102 columns</p>\n",
              "</div>"
            ],
            "text/plain": [
              "        f_0       f_1       f_2  ...      f_99      target  kfold\n",
              "0 -1.417085  0.666266 -0.666399  ... -0.717846  -87.192128      0\n",
              "1 -0.013326 -0.003051 -1.370892  ...  0.625895   61.468354      0\n",
              "2  0.242002  0.273441 -0.552751  ...  1.032900 -428.646994      0\n",
              "3  0.788160  0.423028 -1.396354  ... -0.210402  244.481952      0\n",
              "4 -0.125734 -0.302216 -2.445732  ...  0.370621   34.225967      0\n",
              "\n",
              "[5 rows x 102 columns]"
            ]
          },
          "metadata": {
            "tags": []
          },
          "execution_count": 22
        }
      ]
    }
  ]
}