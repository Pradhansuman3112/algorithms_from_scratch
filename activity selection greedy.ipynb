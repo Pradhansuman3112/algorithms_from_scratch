{
 "cells": [
  {
   "cell_type": "code",
   "execution_count": 5,
   "metadata": {},
   "outputs": [
    {
     "name": "stdout",
     "output_type": "stream",
     "text": [
      "The following activities are selected\n",
      "0\n",
      "1\n",
      "3\n",
      "4\n"
     ]
    }
   ],
   "source": [
    "#activity selection problem\n",
    "\"\"\"Prints a maximum set of activities that can be done by a\n",
    "single person, one at a time\"\"\"\n",
    "# n --> Total number of activities\n",
    "# s[]--> An array that contains start time of all activities\n",
    "# f[] --> An array that contains finish time of all activities\n",
    " \n",
    "def printMaxActivities(s , f ):\n",
    "    n = len(f)\n",
    "    print (\"The following activities are selected\")\n",
    " \n",
    "    # The first activity is always selected\n",
    "    i = 0\n",
    "    print (i),\n",
    " \n",
    "    # Consider rest of the activities\n",
    "    for j in range(n):\n",
    " \n",
    "        # If this activity has start time greater than\n",
    "        # or equal to the finish time of previously\n",
    "        # selected activity, then select it\n",
    "        if s[j] >= f[i]:\n",
    "            print (j),\n",
    "            i = j\n",
    " \n",
    "# Driver program to test above function\n",
    "s = [1 , 3 , 0 , 5 , 8 , 5]\n",
    "f = [2 , 4 , 6 , 7 , 9 , 9]\n",
    "printMaxActivities(s , f)"
   ]
  },
  {
   "cell_type": "code",
   "execution_count": null,
   "metadata": {},
   "outputs": [],
   "source": []
  }
 ],
 "metadata": {
  "kernelspec": {
   "display_name": "Python 3",
   "language": "python",
   "name": "python3"
  },
  "language_info": {
   "codemirror_mode": {
    "name": "ipython",
    "version": 3
   },
   "file_extension": ".py",
   "mimetype": "text/x-python",
   "name": "python",
   "nbconvert_exporter": "python",
   "pygments_lexer": "ipython3",
   "version": "3.7.6"
  }
 },
 "nbformat": 4,
 "nbformat_minor": 4
}
